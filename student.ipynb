{
 "cells": [
  {
   "cell_type": "markdown",
   "metadata": {},
   "source": [
    "# Final Project Module 2"
   ]
  },
  {
   "cell_type": "markdown",
   "metadata": {},
   "source": [
    "## Advance Data Retrieval and Analysis\n",
    "\n",
    "* Student Name: Natalia Quintero \n",
    "* Student Pace: Full time\n",
    "* Schedule Projec Review: TBA\n",
    "* Instructor: Rafael Carrasco\n",
    "* Blog Post: TBA"
   ]
  },
  {
   "cell_type": "markdown",
   "metadata": {},
   "source": [
    "## Introduction\n",
    "\n",
    "<p>The goal of this project is to test the ability to gather information from a \"real-world databse\" and use statistical analysis and hypothesis testing to generate analytical insights.</p>\n",
    "<p>The data used for this project is sourced from Microsoft's fictional company Northwind Traders. An sqlite-compatible file has been provided and it's included in the folder along with the notebooks. The project requirements can be found in the index.ipynb file.</p>"
   ]
  },
  {
   "cell_type": "markdown",
   "metadata": {},
   "source": [
    "### Sections / workflow / procedure\n",
    "\n",
    "* Connect / analyse/ get familiar with db\n",
    "* Generate questions\n",
    "* For each question:\n",
    "    * Define hypothesis, $Ho$ and $Ha$\n",
    "    * Select significance level ($\\alpha$)\n",
    "    * Collect data from Northwind database (select/join tables)\n",
    "    * Calculate test statistis, gather sample data and compare it with the parameter value.\n",
    "    * Calculate p-value / find rejection zone. \n",
    "    * Interpretation / conclussion\n",
    "* Cite sources"
   ]
  },
  {
   "cell_type": "code",
   "execution_count": 1,
   "metadata": {},
   "outputs": [],
   "source": [
    "import sqlalchemy\n",
    "import pandas as pd\n",
    "\n",
    "from sqlalchemy import create_engine\n",
    "from sqlalchemy.orm import Session, sessionmaker\n",
    "from sqlalchemy import inspect"
   ]
  },
  {
   "cell_type": "code",
   "execution_count": 2,
   "metadata": {},
   "outputs": [],
   "source": [
    "# Connect to the Database\n",
    "\n",
    "engine = create_engine('sqlite:///Northwind_small.sqlite', echo=True)\n",
    "Session = sessionmaker(bind=engine)\n",
    "session = Session()"
   ]
  },
  {
   "cell_type": "code",
   "execution_count": 25,
   "metadata": {},
   "outputs": [],
   "source": [
    "# Connection to execute raw SQL statements, one connection for all querys \n",
    "\n",
    "con = engine.connect()"
   ]
  },
  {
   "cell_type": "markdown",
   "metadata": {},
   "source": [
    "-------------"
   ]
  },
  {
   "cell_type": "markdown",
   "metadata": {},
   "source": [
    "## Data Munging\n",
    "\n",
    "<p>Inspect tables, get familiar with the database.</p> \n",
    "<p>Compare table information with the ERD: looking at the diagram makes it easier to understand relations and create hypothesis, we also get a better understanding of the relationship between entities and their attributes.</p>"
   ]
  },
  {
   "cell_type": "markdown",
   "metadata": {},
   "source": [
    "<img src=\"Northwind_ERD.png\">"
   ]
  },
  {
   "cell_type": "markdown",
   "metadata": {},
   "source": [
    "<img src=\"tableNames.png\">"
   ]
  },
  {
   "cell_type": "markdown",
   "metadata": {},
   "source": [
    "<p>The table names in the db are defined in singular, but this doesn't represent a major issue when retrieving data. There is an extra table that is not shown in the diagram \"ProductDetails_V\", this table will need to be checked later to see what information it contains in case that it becomes relevant when formulating hypothesis.</p>  \n",
    "Next I proceed to save each table in a dataframe for better manipulation."
   ]
  },
  {
   "cell_type": "code",
   "execution_count": 7,
   "metadata": {},
   "outputs": [
    {
     "name": "stdout",
     "output_type": "stream",
     "text": [
      "2019-01-21 08:36:37,316 INFO sqlalchemy.engine.base.Engine SELECT name FROM sqlite_master WHERE type='table' ORDER BY name\n",
      "2019-01-21 08:36:37,317 INFO sqlalchemy.engine.base.Engine ()\n",
      "['Category', 'Customer', 'CustomerCustomerDemo', 'CustomerDemographic', 'Employee', 'EmployeeTerritory', 'Order', 'OrderDetail', 'Product', 'Region', 'Shipper', 'Supplier', 'Territory']\n"
     ]
    }
   ],
   "source": [
    "inspector = inspect(engine);\n",
    "\n",
    "print(inspector.get_table_names())"
   ]
  },
  {
   "cell_type": "markdown",
   "metadata": {},
   "source": [
    "### Explore each table (shown in the ERD):"
   ]
  },
  {
   "cell_type": "code",
   "execution_count": 9,
   "metadata": {},
   "outputs": [],
   "source": [
    "def get_columns_info(col_name):\n",
    "\n",
    "    cols_list = inspector.get_columns(col_name)\n",
    "    \n",
    "    print(\"Table Name: {}\".format(col_name))\n",
    "    print(\"\")\n",
    "    \n",
    "    for value in cols_list:\n",
    "        print(\"Name: {} \\t Type: {}\".format(value['name'], value['type']))"
   ]
  },
  {
   "cell_type": "code",
   "execution_count": 14,
   "metadata": {},
   "outputs": [
    {
     "name": "stdout",
     "output_type": "stream",
     "text": [
      "Table Name: Category\n",
      "\n",
      "Name: Id \t Type: INTEGER\n",
      "Name: CategoryName \t Type: VARCHAR(8000)\n",
      "Name: Description \t Type: VARCHAR(8000)\n",
      "Table Name: Customer\n",
      "\n",
      "Name: Id \t Type: VARCHAR(8000)\n",
      "Name: CompanyName \t Type: VARCHAR(8000)\n",
      "Name: ContactName \t Type: VARCHAR(8000)\n",
      "Name: ContactTitle \t Type: VARCHAR(8000)\n",
      "Name: Address \t Type: VARCHAR(8000)\n",
      "Name: City \t Type: VARCHAR(8000)\n",
      "Name: Region \t Type: VARCHAR(8000)\n",
      "Name: PostalCode \t Type: VARCHAR(8000)\n",
      "Name: Country \t Type: VARCHAR(8000)\n",
      "Name: Phone \t Type: VARCHAR(8000)\n",
      "Name: Fax \t Type: VARCHAR(8000)\n",
      "Table Name: CustomerCustomerDemo\n",
      "\n",
      "Name: Id \t Type: VARCHAR(8000)\n",
      "Name: CustomerTypeId \t Type: VARCHAR(8000)\n",
      "Table Name: CustomerDemographic\n",
      "\n",
      "Name: Id \t Type: VARCHAR(8000)\n",
      "Name: CustomerDesc \t Type: VARCHAR(8000)\n",
      "Table Name: Employee\n",
      "\n",
      "Name: Id \t Type: INTEGER\n",
      "Name: LastName \t Type: VARCHAR(8000)\n",
      "Name: FirstName \t Type: VARCHAR(8000)\n",
      "Name: Title \t Type: VARCHAR(8000)\n",
      "Name: TitleOfCourtesy \t Type: VARCHAR(8000)\n",
      "Name: BirthDate \t Type: VARCHAR(8000)\n",
      "Name: HireDate \t Type: VARCHAR(8000)\n",
      "Name: Address \t Type: VARCHAR(8000)\n",
      "Name: City \t Type: VARCHAR(8000)\n",
      "Name: Region \t Type: VARCHAR(8000)\n",
      "Name: PostalCode \t Type: VARCHAR(8000)\n",
      "Name: Country \t Type: VARCHAR(8000)\n",
      "Name: HomePhone \t Type: VARCHAR(8000)\n",
      "Name: Extension \t Type: VARCHAR(8000)\n",
      "Name: Photo \t Type: BLOB\n",
      "Name: Notes \t Type: VARCHAR(8000)\n",
      "Name: ReportsTo \t Type: INTEGER\n",
      "Name: PhotoPath \t Type: VARCHAR(8000)\n",
      "Table Name: EmployeeTerritory\n",
      "\n",
      "Name: Id \t Type: VARCHAR(8000)\n",
      "Name: EmployeeId \t Type: INTEGER\n",
      "Name: TerritoryId \t Type: VARCHAR(8000)\n",
      "2019-01-21 08:49:44,263 INFO sqlalchemy.engine.base.Engine PRAGMA table_info(\"Order\")\n",
      "2019-01-21 08:49:44,264 INFO sqlalchemy.engine.base.Engine ()\n",
      "Table Name: Order\n",
      "\n",
      "Name: Id \t Type: INTEGER\n",
      "Name: CustomerId \t Type: VARCHAR(8000)\n",
      "Name: EmployeeId \t Type: INTEGER\n",
      "Name: OrderDate \t Type: VARCHAR(8000)\n",
      "Name: RequiredDate \t Type: VARCHAR(8000)\n",
      "Name: ShippedDate \t Type: VARCHAR(8000)\n",
      "Name: ShipVia \t Type: INTEGER\n",
      "Name: Freight \t Type: DECIMAL\n",
      "Name: ShipName \t Type: VARCHAR(8000)\n",
      "Name: ShipAddress \t Type: VARCHAR(8000)\n",
      "Name: ShipCity \t Type: VARCHAR(8000)\n",
      "Name: ShipRegion \t Type: VARCHAR(8000)\n",
      "Name: ShipPostalCode \t Type: VARCHAR(8000)\n",
      "Name: ShipCountry \t Type: VARCHAR(8000)\n",
      "2019-01-21 08:49:44,275 INFO sqlalchemy.engine.base.Engine PRAGMA table_info(\"OrderDetail\")\n",
      "2019-01-21 08:49:44,276 INFO sqlalchemy.engine.base.Engine ()\n",
      "Table Name: OrderDetail\n",
      "\n",
      "Name: Id \t Type: VARCHAR(8000)\n",
      "Name: OrderId \t Type: INTEGER\n",
      "Name: ProductId \t Type: INTEGER\n",
      "Name: UnitPrice \t Type: DECIMAL\n",
      "Name: Quantity \t Type: INTEGER\n",
      "Name: Discount \t Type: FLOAT\n",
      "2019-01-21 08:49:44,281 INFO sqlalchemy.engine.base.Engine PRAGMA table_info(\"Product\")\n",
      "2019-01-21 08:49:44,282 INFO sqlalchemy.engine.base.Engine ()\n",
      "Table Name: Product\n",
      "\n",
      "Name: Id \t Type: INTEGER\n",
      "Name: ProductName \t Type: VARCHAR(8000)\n",
      "Name: SupplierId \t Type: INTEGER\n",
      "Name: CategoryId \t Type: INTEGER\n",
      "Name: QuantityPerUnit \t Type: VARCHAR(8000)\n",
      "Name: UnitPrice \t Type: DECIMAL\n",
      "Name: UnitsInStock \t Type: INTEGER\n",
      "Name: UnitsOnOrder \t Type: INTEGER\n",
      "Name: ReorderLevel \t Type: INTEGER\n",
      "Name: Discontinued \t Type: INTEGER\n",
      "2019-01-21 08:49:44,290 INFO sqlalchemy.engine.base.Engine PRAGMA table_info(\"Region\")\n",
      "2019-01-21 08:49:44,291 INFO sqlalchemy.engine.base.Engine ()\n",
      "Table Name: Region\n",
      "\n",
      "Name: Id \t Type: INTEGER\n",
      "Name: RegionDescription \t Type: VARCHAR(8000)\n",
      "2019-01-21 08:49:44,294 INFO sqlalchemy.engine.base.Engine PRAGMA table_info(\"Shipper\")\n",
      "2019-01-21 08:49:44,296 INFO sqlalchemy.engine.base.Engine ()\n",
      "Table Name: Shipper\n",
      "\n",
      "Name: Id \t Type: INTEGER\n",
      "Name: CompanyName \t Type: VARCHAR(8000)\n",
      "Name: Phone \t Type: VARCHAR(8000)\n",
      "2019-01-21 08:49:44,303 INFO sqlalchemy.engine.base.Engine PRAGMA table_info(\"Supplier\")\n",
      "2019-01-21 08:49:44,304 INFO sqlalchemy.engine.base.Engine ()\n",
      "Table Name: Supplier\n",
      "\n",
      "Name: Id \t Type: INTEGER\n",
      "Name: CompanyName \t Type: VARCHAR(8000)\n",
      "Name: ContactName \t Type: VARCHAR(8000)\n",
      "Name: ContactTitle \t Type: VARCHAR(8000)\n",
      "Name: Address \t Type: VARCHAR(8000)\n",
      "Name: City \t Type: VARCHAR(8000)\n",
      "Name: Region \t Type: VARCHAR(8000)\n",
      "Name: PostalCode \t Type: VARCHAR(8000)\n",
      "Name: Country \t Type: VARCHAR(8000)\n",
      "Name: Phone \t Type: VARCHAR(8000)\n",
      "Name: Fax \t Type: VARCHAR(8000)\n",
      "Name: HomePage \t Type: VARCHAR(8000)\n",
      "2019-01-21 08:49:44,316 INFO sqlalchemy.engine.base.Engine PRAGMA table_info(\"Territory\")\n",
      "2019-01-21 08:49:44,317 INFO sqlalchemy.engine.base.Engine ()\n",
      "Table Name: Territory\n",
      "\n",
      "Name: Id \t Type: VARCHAR(8000)\n",
      "Name: TerritoryDescription \t Type: VARCHAR(8000)\n",
      "Name: RegionId \t Type: INTEGER\n"
     ]
    }
   ],
   "source": [
    "get_columns_info('Category')\n",
    "get_columns_info('Customer')\n",
    "get_columns_info('CustomerCustomerDemo')\n",
    "get_columns_info('CustomerDemographic')\n",
    "get_columns_info('Employee')\n",
    "get_columns_info('EmployeeTerritory')\n",
    "get_columns_info('Order')\n",
    "get_columns_info('OrderDetail')\n",
    "get_columns_info('Product')\n",
    "get_columns_info('Region')\n",
    "get_columns_info('Shipper')\n",
    "get_columns_info('Supplier')\n",
    "get_columns_info('Territory')"
   ]
  },
  {
   "cell_type": "markdown",
   "metadata": {},
   "source": [
    "### Table not shown in th ERD"
   ]
  },
  {
   "cell_type": "code",
   "execution_count": 15,
   "metadata": {},
   "outputs": [
    {
     "name": "stdout",
     "output_type": "stream",
     "text": [
      "2019-01-21 08:52:53,200 INFO sqlalchemy.engine.base.Engine PRAGMA table_info(\"ProductDetails_V\")\n",
      "2019-01-21 08:52:53,201 INFO sqlalchemy.engine.base.Engine ()\n",
      "Table Name: ProductDetails_V\n",
      "\n",
      "Name: Id \t Type: INTEGER\n",
      "Name: ProductName \t Type: VARCHAR(8000)\n",
      "Name: SupplierId \t Type: INTEGER\n",
      "Name: CategoryId \t Type: INTEGER\n",
      "Name: QuantityPerUnit \t Type: VARCHAR(8000)\n",
      "Name: UnitPrice \t Type: DECIMAL\n",
      "Name: UnitsInStock \t Type: INTEGER\n",
      "Name: UnitsOnOrder \t Type: INTEGER\n",
      "Name: ReorderLevel \t Type: INTEGER\n",
      "Name: Discontinued \t Type: INTEGER\n",
      "Name: CategoryName \t Type: VARCHAR(8000)\n",
      "Name: CategoryDescription \t Type: VARCHAR(8000)\n",
      "Name: SupplierName \t Type: VARCHAR(8000)\n",
      "Name: SupplierRegion \t Type: VARCHAR(8000)\n"
     ]
    }
   ],
   "source": [
    "get_columns_info('ProductDetails_V')"
   ]
  },
  {
   "cell_type": "code",
   "execution_count": 18,
   "metadata": {},
   "outputs": [
    {
     "name": "stdout",
     "output_type": "stream",
     "text": [
      "2019-01-21 09:07:09,157 INFO sqlalchemy.engine.base.Engine SELECT sql FROM  (SELECT * FROM sqlite_master UNION ALL   SELECT * FROM sqlite_temp_master) WHERE name = 'ProductDetails_V' AND type = 'table'\n",
      "2019-01-21 09:07:09,158 INFO sqlalchemy.engine.base.Engine ()\n"
     ]
    },
    {
     "data": {
      "text/plain": [
       "{'constrained_columns': [], 'name': None}"
      ]
     },
     "execution_count": 18,
     "metadata": {},
     "output_type": "execute_result"
    }
   ],
   "source": [
    "inspector.get_pk_constraint('ProductDetails_V')"
   ]
  },
  {
   "cell_type": "code",
   "execution_count": 19,
   "metadata": {},
   "outputs": [
    {
     "name": "stdout",
     "output_type": "stream",
     "text": [
      "2019-01-21 09:07:16,568 INFO sqlalchemy.engine.base.Engine PRAGMA foreign_key_list(\"ProductDetails_V\")\n",
      "2019-01-21 09:07:16,569 INFO sqlalchemy.engine.base.Engine ()\n",
      "2019-01-21 09:07:16,573 INFO sqlalchemy.engine.base.Engine SELECT sql FROM  (SELECT * FROM sqlite_master UNION ALL   SELECT * FROM sqlite_temp_master) WHERE name = 'ProductDetails_V' AND type = 'table'\n",
      "2019-01-21 09:07:16,574 INFO sqlalchemy.engine.base.Engine ()\n"
     ]
    },
    {
     "data": {
      "text/plain": [
       "[]"
      ]
     },
     "execution_count": 19,
     "metadata": {},
     "output_type": "execute_result"
    }
   ],
   "source": [
    "inspector.get_foreign_keys('ProductDetails_V')"
   ]
  },
  {
   "cell_type": "markdown",
   "metadata": {},
   "source": [
    "#### Conclussion\n",
    "This table has no foreign key or primary key. It seems to be a join-table between Product and Category. Most probably was a table created and never deleted from previous manipulation of the database. I conclude this table is not part of the initial database model."
   ]
  },
  {
   "cell_type": "markdown",
   "metadata": {},
   "source": [
    "---------------"
   ]
  },
  {
   "cell_type": "markdown",
   "metadata": {},
   "source": [
    "## Hypotheis Statements \n",
    "\n",
    "1. Do discounts have a statistically significant effect on the number of products customers order? If so, at what level(s) of discount?\n",
    "2. TBD\n",
    "3. TBD\n",
    "4. TBD\n",
    "    "
   ]
  },
  {
   "cell_type": "markdown",
   "metadata": {},
   "source": [
    "### Analysis of hypothesis 1\n",
    "Do discounts have a statistically significant effect on the number of products customers order? If so, at what level(s) of discount?"
   ]
  },
  {
   "cell_type": "markdown",
   "metadata": {},
   "source": [
    "#### State null and alternative hypothesis\n",
    "* $H_o$: discounts do not have an effect on the number of products ordered. $\\mu_1 =\\mu_2$\n",
    "* $Ha$: discounts have an effect in the number of products ordered. $\\mu_1 !=\\mu_2$"
   ]
  },
  {
   "cell_type": "markdown",
   "metadata": {},
   "source": [
    "#### Significance level "
   ]
  },
  {
   "cell_type": "markdown",
   "metadata": {},
   "source": [
    "$\\alpha$ = 0.05\n",
    "\n",
    "Since the question is asking for a \"significant effect\" this will be a two-tail test."
   ]
  },
  {
   "cell_type": "markdown",
   "metadata": {},
   "source": [
    "#### Collect data"
   ]
  },
  {
   "cell_type": "markdown",
   "metadata": {},
   "source": [
    "Table needed: Order (attributes: orderid, quantity, discount) "
   ]
  },
  {
   "cell_type": "code",
   "execution_count": 58,
   "metadata": {},
   "outputs": [
    {
     "name": "stdout",
     "output_type": "stream",
     "text": [
      "2019-01-21 16:57:46,648 INFO sqlalchemy.engine.base.Engine select * from [OrderDetail]\n",
      "2019-01-21 16:57:46,650 INFO sqlalchemy.engine.base.Engine ()\n"
     ]
    },
    {
     "data": {
      "text/html": [
       "<div>\n",
       "<style scoped>\n",
       "    .dataframe tbody tr th:only-of-type {\n",
       "        vertical-align: middle;\n",
       "    }\n",
       "\n",
       "    .dataframe tbody tr th {\n",
       "        vertical-align: top;\n",
       "    }\n",
       "\n",
       "    .dataframe thead th {\n",
       "        text-align: right;\n",
       "    }\n",
       "</style>\n",
       "<table border=\"1\" class=\"dataframe\">\n",
       "  <thead>\n",
       "    <tr style=\"text-align: right;\">\n",
       "      <th></th>\n",
       "      <th>Id</th>\n",
       "      <th>OrderId</th>\n",
       "      <th>ProductId</th>\n",
       "      <th>UnitPrice</th>\n",
       "      <th>Quantity</th>\n",
       "      <th>Discount</th>\n",
       "    </tr>\n",
       "  </thead>\n",
       "  <tbody>\n",
       "    <tr>\n",
       "      <th>0</th>\n",
       "      <td>10248/11</td>\n",
       "      <td>10248</td>\n",
       "      <td>11</td>\n",
       "      <td>14.0</td>\n",
       "      <td>12</td>\n",
       "      <td>0.0</td>\n",
       "    </tr>\n",
       "    <tr>\n",
       "      <th>1</th>\n",
       "      <td>10248/42</td>\n",
       "      <td>10248</td>\n",
       "      <td>42</td>\n",
       "      <td>9.8</td>\n",
       "      <td>10</td>\n",
       "      <td>0.0</td>\n",
       "    </tr>\n",
       "    <tr>\n",
       "      <th>2</th>\n",
       "      <td>10248/72</td>\n",
       "      <td>10248</td>\n",
       "      <td>72</td>\n",
       "      <td>34.8</td>\n",
       "      <td>5</td>\n",
       "      <td>0.0</td>\n",
       "    </tr>\n",
       "    <tr>\n",
       "      <th>3</th>\n",
       "      <td>10249/14</td>\n",
       "      <td>10249</td>\n",
       "      <td>14</td>\n",
       "      <td>18.6</td>\n",
       "      <td>9</td>\n",
       "      <td>0.0</td>\n",
       "    </tr>\n",
       "    <tr>\n",
       "      <th>4</th>\n",
       "      <td>10249/51</td>\n",
       "      <td>10249</td>\n",
       "      <td>51</td>\n",
       "      <td>42.4</td>\n",
       "      <td>40</td>\n",
       "      <td>0.0</td>\n",
       "    </tr>\n",
       "  </tbody>\n",
       "</table>\n",
       "</div>"
      ],
      "text/plain": [
       "         Id  OrderId  ProductId  UnitPrice  Quantity  Discount\n",
       "0  10248/11    10248         11       14.0        12       0.0\n",
       "1  10248/42    10248         42        9.8        10       0.0\n",
       "2  10248/72    10248         72       34.8         5       0.0\n",
       "3  10249/14    10249         14       18.6         9       0.0\n",
       "4  10249/51    10249         51       42.4        40       0.0"
      ]
     },
     "execution_count": 58,
     "metadata": {},
     "output_type": "execute_result"
    }
   ],
   "source": [
    "# Read OrderDertail table into a dataframe\n",
    "\n",
    "dfOrderDetail = pd.read_sql_query('''select * from [OrderDetail]''', engine)\n",
    "\n",
    "dfOrderDetail.head()"
   ]
  },
  {
   "cell_type": "code",
   "execution_count": 55,
   "metadata": {},
   "outputs": [
    {
     "data": {
      "text/plain": [
       "array([0.  , 0.01, 0.02, 0.03, 0.04, 0.05, 0.06, 0.1 , 0.15, 0.2 , 0.25])"
      ]
     },
     "execution_count": 55,
     "metadata": {},
     "output_type": "execute_result"
    }
   ],
   "source": [
    "dfOrderDetail['Discount'].unique()"
   ]
  },
  {
   "cell_type": "code",
   "execution_count": 61,
   "metadata": {},
   "outputs": [
    {
     "data": {
      "text/plain": [
       "0.00    1317\n",
       "0.05     185\n",
       "0.10     173\n",
       "0.20     161\n",
       "0.15     157\n",
       "0.25     154\n",
       "0.03       3\n",
       "0.02       2\n",
       "0.01       1\n",
       "0.04       1\n",
       "0.06       1\n",
       "Name: Discount, dtype: int64"
      ]
     },
     "execution_count": 61,
     "metadata": {},
     "output_type": "execute_result"
    }
   ],
   "source": [
    "dfOrderDetail['Discount'].value_counts()"
   ]
  },
  {
   "cell_type": "code",
   "execution_count": 47,
   "metadata": {},
   "outputs": [],
   "source": [
    "import matplotlib.pyplot as plt\n",
    "%matplotlib inline"
   ]
  },
  {
   "cell_type": "code",
   "execution_count": 63,
   "metadata": {},
   "outputs": [
    {
     "data": {
      "image/png": "[encoded data removed]",
      "text/plain": [
       "<Figure size 432x288 with 1 Axes>"
      ]
     },
     "metadata": {
      "needs_background": "light"
     },
     "output_type": "display_data"
    }
   ],
   "source": [
    "dfOrderDetail.plot.scatter('Discount', 'Quantity')\n",
    "plt.show()"
   ]
  },
  {
   "cell_type": "markdown",
   "metadata": {},
   "source": [
    "At a first look it doesn't seem that dicounts affect the quantity of products ordered."
   ]
  },
  {
   "cell_type": "code",
   "execution_count": null,
   "metadata": {},
   "outputs": [],
   "source": []
  },
  {
   "cell_type": "code",
   "execution_count": null,
   "metadata": {},
   "outputs": [],
   "source": []
  },
  {
   "cell_type": "code",
   "execution_count": null,
   "metadata": {},
   "outputs": [],
   "source": []
  },
  {
   "cell_type": "code",
   "execution_count": null,
   "metadata": {},
   "outputs": [],
   "source": []
  },
  {
   "cell_type": "code",
   "execution_count": null,
   "metadata": {},
   "outputs": [],
   "source": []
  },
  {
   "cell_type": "code",
   "execution_count": null,
   "metadata": {},
   "outputs": [],
   "source": []
  },
  {
   "cell_type": "code",
   "execution_count": 37,
   "metadata": {},
   "outputs": [
    {
     "name": "stdout",
     "output_type": "stream",
     "text": [
      "<class 'pandas.core.frame.DataFrame'>\n",
      "RangeIndex: 2155 entries, 0 to 2154\n",
      "Data columns (total 3 columns):\n",
      "ProductId    2155 non-null int64\n",
      "Quantity     2155 non-null int64\n",
      "Discount     2155 non-null float64\n",
      "dtypes: float64(1), int64(2)\n",
      "memory usage: 50.6 KB\n"
     ]
    }
   ],
   "source": [
    "# Check columns dont have null values\n",
    "# Columns of interest: Quantity, Discount, productId\n",
    "\n",
    "dfOrderDetail[['ProductId', 'Quantity', 'Discount']].info()"
   ]
  },
  {
   "cell_type": "code",
   "execution_count": null,
   "metadata": {},
   "outputs": [],
   "source": []
  },
  {
   "cell_type": "code",
   "execution_count": 34,
   "metadata": {},
   "outputs": [
    {
     "name": "stdout",
     "output_type": "stream",
     "text": [
      "2019-01-21 14:31:33,486 INFO sqlalchemy.engine.base.Engine select * from [Order]\n",
      "2019-01-21 14:31:33,489 INFO sqlalchemy.engine.base.Engine ()\n"
     ]
    },
    {
     "data": {
      "text/html": [
       "<div>\n",
       "<style scoped>\n",
       "    .dataframe tbody tr th:only-of-type {\n",
       "        vertical-align: middle;\n",
       "    }\n",
       "\n",
       "    .dataframe tbody tr th {\n",
       "        vertical-align: top;\n",
       "    }\n",
       "\n",
       "    .dataframe thead th {\n",
       "        text-align: right;\n",
       "    }\n",
       "</style>\n",
       "<table border=\"1\" class=\"dataframe\">\n",
       "  <thead>\n",
       "    <tr style=\"text-align: right;\">\n",
       "      <th></th>\n",
       "      <th>Id</th>\n",
       "      <th>CustomerId</th>\n",
       "      <th>EmployeeId</th>\n",
       "      <th>OrderDate</th>\n",
       "      <th>RequiredDate</th>\n",
       "      <th>ShippedDate</th>\n",
       "      <th>ShipVia</th>\n",
       "      <th>Freight</th>\n",
       "      <th>ShipName</th>\n",
       "      <th>ShipAddress</th>\n",
       "      <th>ShipCity</th>\n",
       "      <th>ShipRegion</th>\n",
       "      <th>ShipPostalCode</th>\n",
       "      <th>ShipCountry</th>\n",
       "    </tr>\n",
       "  </thead>\n",
       "  <tbody>\n",
       "    <tr>\n",
       "      <th>0</th>\n",
       "      <td>10248</td>\n",
       "      <td>VINET</td>\n",
       "      <td>5</td>\n",
       "      <td>2012-07-04</td>\n",
       "      <td>2012-08-01</td>\n",
       "      <td>2012-07-16</td>\n",
       "      <td>3</td>\n",
       "      <td>32.38</td>\n",
       "      <td>Vins et alcools Chevalier</td>\n",
       "      <td>59 rue de l'Abbaye</td>\n",
       "      <td>Reims</td>\n",
       "      <td>Western Europe</td>\n",
       "      <td>51100</td>\n",
       "      <td>France</td>\n",
       "    </tr>\n",
       "    <tr>\n",
       "      <th>1</th>\n",
       "      <td>10249</td>\n",
       "      <td>TOMSP</td>\n",
       "      <td>6</td>\n",
       "      <td>2012-07-05</td>\n",
       "      <td>2012-08-16</td>\n",
       "      <td>2012-07-10</td>\n",
       "      <td>1</td>\n",
       "      <td>11.61</td>\n",
       "      <td>Toms Spezialitäten</td>\n",
       "      <td>Luisenstr. 48</td>\n",
       "      <td>Münster</td>\n",
       "      <td>Western Europe</td>\n",
       "      <td>44087</td>\n",
       "      <td>Germany</td>\n",
       "    </tr>\n",
       "    <tr>\n",
       "      <th>2</th>\n",
       "      <td>10250</td>\n",
       "      <td>HANAR</td>\n",
       "      <td>4</td>\n",
       "      <td>2012-07-08</td>\n",
       "      <td>2012-08-05</td>\n",
       "      <td>2012-07-12</td>\n",
       "      <td>2</td>\n",
       "      <td>65.83</td>\n",
       "      <td>Hanari Carnes</td>\n",
       "      <td>Rua do Paço, 67</td>\n",
       "      <td>Rio de Janeiro</td>\n",
       "      <td>South America</td>\n",
       "      <td>05454-876</td>\n",
       "      <td>Brazil</td>\n",
       "    </tr>\n",
       "    <tr>\n",
       "      <th>3</th>\n",
       "      <td>10251</td>\n",
       "      <td>VICTE</td>\n",
       "      <td>3</td>\n",
       "      <td>2012-07-08</td>\n",
       "      <td>2012-08-05</td>\n",
       "      <td>2012-07-15</td>\n",
       "      <td>1</td>\n",
       "      <td>41.34</td>\n",
       "      <td>Victuailles en stock</td>\n",
       "      <td>2, rue du Commerce</td>\n",
       "      <td>Lyon</td>\n",
       "      <td>Western Europe</td>\n",
       "      <td>69004</td>\n",
       "      <td>France</td>\n",
       "    </tr>\n",
       "    <tr>\n",
       "      <th>4</th>\n",
       "      <td>10252</td>\n",
       "      <td>SUPRD</td>\n",
       "      <td>4</td>\n",
       "      <td>2012-07-09</td>\n",
       "      <td>2012-08-06</td>\n",
       "      <td>2012-07-11</td>\n",
       "      <td>2</td>\n",
       "      <td>51.30</td>\n",
       "      <td>Suprêmes délices</td>\n",
       "      <td>Boulevard Tirou, 255</td>\n",
       "      <td>Charleroi</td>\n",
       "      <td>Western Europe</td>\n",
       "      <td>B-6000</td>\n",
       "      <td>Belgium</td>\n",
       "    </tr>\n",
       "  </tbody>\n",
       "</table>\n",
       "</div>"
      ],
      "text/plain": [
       "      Id CustomerId  EmployeeId   OrderDate RequiredDate ShippedDate  ShipVia  \\\n",
       "0  10248      VINET           5  2012-07-04   2012-08-01  2012-07-16        3   \n",
       "1  10249      TOMSP           6  2012-07-05   2012-08-16  2012-07-10        1   \n",
       "2  10250      HANAR           4  2012-07-08   2012-08-05  2012-07-12        2   \n",
       "3  10251      VICTE           3  2012-07-08   2012-08-05  2012-07-15        1   \n",
       "4  10252      SUPRD           4  2012-07-09   2012-08-06  2012-07-11        2   \n",
       "\n",
       "   Freight                   ShipName           ShipAddress        ShipCity  \\\n",
       "0    32.38  Vins et alcools Chevalier    59 rue de l'Abbaye           Reims   \n",
       "1    11.61         Toms Spezialitäten         Luisenstr. 48         Münster   \n",
       "2    65.83              Hanari Carnes       Rua do Paço, 67  Rio de Janeiro   \n",
       "3    41.34       Victuailles en stock    2, rue du Commerce            Lyon   \n",
       "4    51.30           Suprêmes délices  Boulevard Tirou, 255       Charleroi   \n",
       "\n",
       "       ShipRegion ShipPostalCode ShipCountry  \n",
       "0  Western Europe          51100      France  \n",
       "1  Western Europe          44087     Germany  \n",
       "2   South America      05454-876      Brazil  \n",
       "3  Western Europe          69004      France  \n",
       "4  Western Europe         B-6000     Belgium  "
      ]
     },
     "execution_count": 34,
     "metadata": {},
     "output_type": "execute_result"
    }
   ],
   "source": [
    "# Read Order table into a dataframe\n",
    "\n",
    "dfOrder = pd.read_sql_query('''select * from [Order]''', engine)\n",
    "\n",
    "dfOrder.head()"
   ]
  },
  {
   "cell_type": "code",
   "execution_count": 38,
   "metadata": {},
   "outputs": [
    {
     "name": "stdout",
     "output_type": "stream",
     "text": [
      "<class 'pandas.core.frame.DataFrame'>\n",
      "RangeIndex: 830 entries, 0 to 829\n",
      "Data columns (total 1 columns):\n",
      "CustomerId    830 non-null object\n",
      "dtypes: object(1)\n",
      "memory usage: 6.6+ KB\n"
     ]
    }
   ],
   "source": [
    "# Columns of interest: CustomerId, \n",
    "dfOrder[['CustomerId']].info()"
   ]
  },
  {
   "cell_type": "code",
   "execution_count": 45,
   "metadata": {},
   "outputs": [],
   "source": [
    "# Discount and quantity \n",
    "import seaborn as sns"
   ]
  },
  {
   "cell_type": "code",
   "execution_count": null,
   "metadata": {},
   "outputs": [],
   "source": [
    "sns.distplot()"
   ]
  },
  {
   "cell_type": "code",
   "execution_count": null,
   "metadata": {},
   "outputs": [],
   "source": []
  },
  {
   "cell_type": "code",
   "execution_count": null,
   "metadata": {},
   "outputs": [],
   "source": []
  },
  {
   "cell_type": "code",
   "execution_count": null,
   "metadata": {},
   "outputs": [],
   "source": []
  },
  {
   "cell_type": "code",
   "execution_count": null,
   "metadata": {},
   "outputs": [],
   "source": []
  },
  {
   "cell_type": "markdown",
   "metadata": {},
   "source": [
    "#### Test statistic"
   ]
  },
  {
   "cell_type": "markdown",
   "metadata": {},
   "source": [
    "# merge testing here!!"
   ]
  },
  {
   "cell_type": "code",
   "execution_count": null,
   "metadata": {},
   "outputs": [],
   "source": []
  },
  {
   "cell_type": "code",
   "execution_count": null,
   "metadata": {},
   "outputs": [],
   "source": []
  },
  {
   "cell_type": "markdown",
   "metadata": {},
   "source": [
    "#### P-value / Rejection zones"
   ]
  },
  {
   "cell_type": "code",
   "execution_count": null,
   "metadata": {},
   "outputs": [],
   "source": []
  },
  {
   "cell_type": "code",
   "execution_count": null,
   "metadata": {},
   "outputs": [],
   "source": []
  },
  {
   "cell_type": "code",
   "execution_count": null,
   "metadata": {},
   "outputs": [],
   "source": []
  },
  {
   "cell_type": "markdown",
   "metadata": {},
   "source": [
    "#### Interpretation"
   ]
  },
  {
   "cell_type": "code",
   "execution_count": null,
   "metadata": {},
   "outputs": [],
   "source": []
  },
  {
   "cell_type": "code",
   "execution_count": null,
   "metadata": {},
   "outputs": [],
   "source": []
  },
  {
   "cell_type": "code",
   "execution_count": null,
   "metadata": {},
   "outputs": [],
   "source": []
  },
  {
   "cell_type": "markdown",
   "metadata": {},
   "source": [
    "### Analysis of hypothesis 2"
   ]
  },
  {
   "cell_type": "code",
   "execution_count": null,
   "metadata": {},
   "outputs": [],
   "source": []
  },
  {
   "cell_type": "code",
   "execution_count": null,
   "metadata": {},
   "outputs": [],
   "source": []
  },
  {
   "cell_type": "markdown",
   "metadata": {},
   "source": [
    "# Sources\n",
    "\n",
    "* [SQLAlchemy Documentation][s1] \n",
    "* [Introduction to hypothesis testing][s2]\n",
    "\n",
    "[s1]: https://docs.sqlalchemy.org/en/latest/core/reflection.html?highlight=inspector#sqlalchemy.engine.reflection.Inspector.get_table_names.params.order_by\n",
    "[s2]:https://newonlinecourses.science.psu.edu/stat500/node/39/\n"
   ]
  },
  {
   "cell_type": "code",
   "execution_count": null,
   "metadata": {},
   "outputs": [],
   "source": []
  },
  {
   "cell_type": "code",
   "execution_count": null,
   "metadata": {},
   "outputs": [],
   "source": []
  }
 ],
 "metadata": {
  "kernelspec": {
   "display_name": "learn-env",
   "language": "python",
   "name": "learn-env"
  },
  "language_info": {
   "codemirror_mode": {
    "name": "ipython",
    "version": 3
   },
   "file_extension": ".py",
   "mimetype": "text/x-python",
   "name": "python",
   "nbconvert_exporter": "python",
   "pygments_lexer": "ipython3",
   "version": "3.7.0"
  }
 },
 "nbformat": 4,
 "nbformat_minor": 2
}
